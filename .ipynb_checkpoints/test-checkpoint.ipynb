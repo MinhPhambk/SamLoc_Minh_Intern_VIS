{
 "cells": [
  {
   "cell_type": "code",
   "execution_count": 1,
   "metadata": {},
   "outputs": [
    {
     "name": "stdout",
     "output_type": "stream",
     "text": [
      "Lượt đánh của người chơi : [1]\n",
      "Các cách đánh bài trên tay : [  1   3   5   6   7   8   9  10  12  25  57  58  59  60  69  70  71  80\n",
      "  81  90 121]\n",
      "Người chơi 1 : [ 1  3  5  6  7  8  9 10 12 12]\n",
      "Người chơi 2 : [ 2  2  2  3  4  5  6  8  8 10]\n",
      "Người chơi 3 : [ 1  2  4  5  7  8 10 11 11 13]\n",
      "Người chơi 4 : [ 1  5  7  9  9 10 11 12 13 13]\n",
      "Các lá đã đánh : []\n",
      "Những người bỏ lượt : [0 0 0 0]\n",
      "Ai báo sâm? : [0]\n",
      "Tiếp tục chơi? : [0]\n"
     ]
    }
   ],
   "source": [
    "from SamLoc import initEnv, stepEnv, visualize_env, getValidActions\n",
    "\n",
    "env = initEnv()\n",
    "visualize_env(env)"
   ]
  },
  {
   "cell_type": "code",
   "execution_count": 12,
   "metadata": {},
   "outputs": [
    {
     "name": "stdout",
     "output_type": "stream",
     "text": [
      "Lượt đánh của người chơi : [4]\n",
      "Các cách đánh bài trên tay : [  1   5   7   9  13 121]\n",
      "Người chơi 1 : [ 0  0  0  1  3  8  9 10 12 12]\n",
      "Người chơi 2 : [ 2  2  2  3  4  5  6  8  8 10]\n",
      "Người chơi 3 : [ 1  2  4  5  7  8 10 11 11 13]\n",
      "Người chơi 4 : [ 0  0  0  0  0  1  5  7  9 13]\n",
      "Các lá đã đánh : []\n",
      "Những người bỏ lượt : [0 0 0 0]\n",
      "Ai báo sâm? : [0]\n",
      "Tiếp tục chơi? : [0]\n"
     ]
    }
   ],
   "source": [
    "act = 121\n",
    "stepEnv(act, env)\n",
    "visualize_env(env)"
   ]
  },
  {
   "cell_type": "code",
   "execution_count": 15,
   "metadata": {},
   "outputs": [
    {
     "name": "stdout",
     "output_type": "stream",
     "text": [
      "ssss\n"
     ]
    }
   ],
   "source": [
    "import numpy as np\n",
    "a = np.array([0, 0, 0])\n",
    "if np.sum(a[1:2]) == 0: print(\"ssss\")"
   ]
  }
 ],
 "metadata": {
  "kernelspec": {
   "display_name": "Python 3 (ipykernel)",
   "language": "python",
   "name": "python3"
  },
  "language_info": {
   "codemirror_mode": {
    "name": "ipython",
    "version": 3
   },
   "file_extension": ".py",
   "mimetype": "text/x-python",
   "name": "python",
   "nbconvert_exporter": "python",
   "pygments_lexer": "ipython3",
   "version": "3.8.15"
  },
  "vscode": {
   "interpreter": {
    "hash": "72b2382ece9768098284d92bbc69d35954e75b60d1e25897d1389c232f4796f0"
   }
  }
 },
 "nbformat": 4,
 "nbformat_minor": 4
}
