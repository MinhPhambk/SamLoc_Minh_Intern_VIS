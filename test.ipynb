{
 "cells": [
  {
   "cell_type": "code",
   "execution_count": 157,
   "metadata": {},
   "outputs": [],
   "source": [
    "from SamLoc import getValidActions, run_n_game, initEnv,getAgentState, bot_random, getValidActions\n",
    "from numba import njit\n",
    "import numpy as np\n",
    "\n",
    "\n",
    "@njit\n",
    "def player_random(p_state):\n",
    "    # np.random.seed(0)\n",
    "    arr_action = getValidActions(p_state)\n",
    "    arr_action = np.where(arr_action == 1)[0]\n",
    "    act_idx = np.random.randint(0, len(arr_action))\n",
    "    return(arr_action[act_idx])"
   ]
  },
  {
   "cell_type": "code",
   "execution_count": 18,
   "metadata": {},
   "outputs": [
    {
     "name": "stderr",
     "output_type": "stream",
     "text": [
      "python: can't open file 'setup.py': [Errno 2] No such file or directory\n"
     ]
    }
   ],
   "source": [
    "# !pip install -U setuptools wheel\n",
    "!python setup.py sdist bdist_wheel"
   ]
  },
  {
   "cell_type": "code",
   "execution_count": 206,
   "metadata": {},
   "outputs": [
    {
     "name": "stdout",
     "output_type": "stream",
     "text": [
      "93\n",
      "10\n",
      "7\n"
     ]
    },
    {
     "ename": "ValueError",
     "evalue": "zero-size array to reduction operation maximum which has no identity",
     "output_type": "error",
     "traceback": [
      "\u001b[1;31m---------------------------------------------------------------------------\u001b[0m",
      "\u001b[1;31mValueError\u001b[0m                                Traceback (most recent call last)",
      "Cell \u001b[1;32mIn[4], line 1\u001b[0m\n\u001b[1;32m----> 1\u001b[0m \u001b[43mrun_n_game\u001b[49m\u001b[43m(\u001b[49m\u001b[43mplayer_random\u001b[49m\u001b[43m,\u001b[49m\u001b[43m \u001b[49m\u001b[38;5;241;43m100\u001b[39;49m\u001b[43m,\u001b[49m\u001b[43m \u001b[49m\u001b[38;5;28;43;01mFalse\u001b[39;49;00m\u001b[43m)\u001b[49m\n\u001b[0;32m      4\u001b[0m \u001b[38;5;66;03m# env = initEnv()\u001b[39;00m\n\u001b[0;32m      5\u001b[0m \u001b[38;5;66;03m# p_state = getAgentState(env)\u001b[39;00m\n\u001b[0;32m      6\u001b[0m \u001b[38;5;66;03m# act = bot_random(p_state)\u001b[39;00m\n\u001b[0;32m      7\u001b[0m \n\u001b[0;32m      8\u001b[0m \u001b[38;5;66;03m# print(getValidActions(env), act)\u001b[39;00m\n",
      "File \u001b[1;32m~\\miniconda3\\envs\\game\\lib\\site-packages\\numba\\np\\arraymath.py:623\u001b[0m, in \u001b[0;36marray_max_impl\u001b[1;34m()\u001b[0m\n\u001b[0;32m    621\u001b[0m \u001b[38;5;28;01mdef\u001b[39;00m \u001b[38;5;21marray_max_impl\u001b[39m(arry):\n\u001b[0;32m    622\u001b[0m     \u001b[38;5;28;01mif\u001b[39;00m arry\u001b[38;5;241m.\u001b[39msize \u001b[38;5;241m==\u001b[39m \u001b[38;5;241m0\u001b[39m:\n\u001b[1;32m--> 623\u001b[0m         \u001b[38;5;28;01mraise\u001b[39;00m \u001b[38;5;167;01mValueError\u001b[39;00m(MSG)\n\u001b[0;32m    625\u001b[0m     it \u001b[38;5;241m=\u001b[39m np\u001b[38;5;241m.\u001b[39mnditer(arry)\n\u001b[0;32m    626\u001b[0m     max_value \u001b[38;5;241m=\u001b[39m \u001b[38;5;28mnext\u001b[39m(it)\u001b[38;5;241m.\u001b[39mtake(\u001b[38;5;241m0\u001b[39m)\n",
      "\u001b[1;31mValueError\u001b[0m: zero-size array to reduction operation maximum which has no identity"
     ]
    }
   ],
   "source": [
    "run_n_game(player_random, 1, False)\n",
    "\n",
    "# env = initEnv()\n",
    "# p_state = getAgentState(env)\n",
    "# act = bot_random(p_state)\n",
    "\n",
    "# print(getValidActions(env), act)"
   ]
  }
 ],
 "metadata": {
  "kernelspec": {
   "display_name": "Python 3 (ipykernel)",
   "language": "python",
   "name": "python3"
  },
  "language_info": {
   "codemirror_mode": {
    "name": "ipython",
    "version": 3
   },
   "file_extension": ".py",
   "mimetype": "text/x-python",
   "name": "python",
   "nbconvert_exporter": "python",
   "pygments_lexer": "ipython3",
   "version": "3.8.15"
  },
  "vscode": {
   "interpreter": {
    "hash": "72b2382ece9768098284d92bbc69d35954e75b60d1e25897d1389c232f4796f0"
   }
  }
 },
 "nbformat": 4,
 "nbformat_minor": 4
}
