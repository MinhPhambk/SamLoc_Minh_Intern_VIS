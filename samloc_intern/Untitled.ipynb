{
 "cells": [
  {
   "cell_type": "code",
   "execution_count": null,
   "id": "da21f8eb-43c9-4643-a963-7d9321a775da",
   "metadata": {},
   "outputs": [],
   "source": [
    "!python -m twine upload --repository-url https://test.pypi.org/legacy/ dist/*  --verbose"
   ]
  },
  {
   "cell_type": "code",
   "execution_count": 3,
   "id": "76047ea5-7ff7-42ff-bfc9-984b26754b34",
   "metadata": {},
   "outputs": [
    {
     "name": "stdout",
     "output_type": "stream",
     "text": [
      "Collecting samloc\n",
      "  Downloading samloc-0.0.1-py3-none-any.whl (6.1 kB)\n",
      "Installing collected packages: samloc\n",
      "Successfully installed samloc-0.0.1\n"
     ]
    }
   ],
   "source": [
    "!pip install samloc"
   ]
  }
 ],
 "metadata": {
  "kernelspec": {
   "display_name": "Python 3 (ipykernel)",
   "language": "python",
   "name": "python3"
  },
  "language_info": {
   "codemirror_mode": {
    "name": "ipython",
    "version": 3
   },
   "file_extension": ".py",
   "mimetype": "text/x-python",
   "name": "python",
   "nbconvert_exporter": "python",
   "pygments_lexer": "ipython3",
   "version": "3.8.15"
  }
 },
 "nbformat": 4,
 "nbformat_minor": 5
}
