{
 "cells": [
  {
   "cell_type": "code",
   "execution_count": null,
   "id": "da21f8eb-43c9-4643-a963-7d9321a775da",
   "metadata": {},
   "outputs": [],
   "source": [
    "!pip install -U twine"
   ]
  }
 ],
 "metadata": {
  "kernelspec": {
   "display_name": "Python 3 (ipykernel)",
   "language": "python",
   "name": "python3"
  },
  "language_info": {
   "codemirror_mode": {
    "name": "ipython",
    "version": 3
   },
   "file_extension": ".py",
   "mimetype": "text/x-python",
   "name": "python",
   "nbconvert_exporter": "python",
   "pygments_lexer": "ipython3",
   "version": "3.8.15"
  }
 },
 "nbformat": 4,
 "nbformat_minor": 5
}
